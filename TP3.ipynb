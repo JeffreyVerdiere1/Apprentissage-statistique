{
 "cells": [
  {
   "cell_type": "markdown",
   "metadata": {},
   "source": [
    "# TP3: NN and CNN with ```pytorch``` A rendre pour le 4 janvier\n",
    "\n"
   ]
  },
  {
   "cell_type": "code",
   "execution_count": 1,
   "metadata": {},
   "outputs": [],
   "source": [
    "import numpy as np\n",
    "import torch\n",
    "import torchvision\n",
    "import matplotlib.pyplot as plt\n",
    "from torchvision import datasets, transforms\n",
    "import torch.nn as nn\n",
    "import torch.nn.functional as F\n",
    "import torch.optim as optim\n",
    "from tqdm.notebook import tqdm"
   ]
  },
  {
   "cell_type": "markdown",
   "metadata": {},
   "source": [
    "Pytorch operates with tensors instead of numpy arrays. Almost everything you can do with numpy arrays can be acomplished with pytorch tensors."
   ]
  },
  {
   "cell_type": "code",
   "execution_count": 2,
   "metadata": {},
   "outputs": [
    {
     "name": "stdout",
     "output_type": "stream",
     "text": [
      "tensor([[0.5778, 0.6787, 0.8660],\n",
      "        [0.7243, 0.5207, 0.4901],\n",
      "        [0.1373, 0.7619, 0.4413]])\n"
     ]
    }
   ],
   "source": [
    "x = torch.rand(3, 3) # random tensor of size 3 by 3\n",
    "print(x)"
   ]
  },
  {
   "cell_type": "code",
   "execution_count": 3,
   "metadata": {},
   "outputs": [
    {
     "name": "stdout",
     "output_type": "stream",
     "text": [
      "This is the result of:\n",
      " tensor([[1., 1., 1.],\n",
      "        [1., 1., 1.],\n",
      "        [1., 1., 1.]])\n",
      " +\n",
      " tensor([[4., 4., 4.],\n",
      "        [4., 4., 4.],\n",
      "        [4., 4., 4.]]) \n",
      " = \n",
      " tensor([[5., 5., 5.],\n",
      "        [5., 5., 5.],\n",
      "        [5., 5., 5.]])\n"
     ]
    }
   ],
   "source": [
    "# We can operate with pytorch tensors pretty much in the same manner as with numpy arrays\n",
    "x = torch.ones(3,3)\n",
    "y = torch.ones(3,3) * 4\n",
    "z = x + y\n",
    "print(f'This is the result of:\\n {x}\\n +\\n {y} \\n = \\n {z}')"
   ]
  },
  {
   "cell_type": "code",
   "execution_count": 4,
   "metadata": {},
   "outputs": [
    {
     "name": "stdout",
     "output_type": "stream",
     "text": [
      "From \n",
      " tensor([[5., 5., 5.],\n",
      "        [5., 5., 5.],\n",
      "        [5., 5., 5.]]) we can look at the last column and 2 rows \n",
      " tensor([5., 5.])\n"
     ]
    }
   ],
   "source": [
    "# again we can operate with tensor indexing as if it was a numpy one\n",
    "\n",
    "x = torch.ones(3,3) * 5\n",
    "y = x[-1, :2]\n",
    "print(f'From \\n {x} we can look at the last column and 2 rows \\n {y}')"
   ]
  },
  {
   "cell_type": "markdown",
   "metadata": {},
   "source": [
    "**Example**"
   ]
  },
  {
   "cell_type": "markdown",
   "metadata": {},
   "source": [
    "As you know, a lot of ML algorithms can be stated as optimization problems.\n",
    "Let us consider a toy example: imagine that our data is $x = (1, \\ldots, 1)^\\top \\in \\mathbb{R}^{5}$ is a vector composed of all ones and a label $y = 1$. We would like to find a weight vector $w \\in \\mathbb{R}^{5}$ such that the loss function $L(w) = (y - x^\\top w)^2$ is minimized.\n",
    "\n",
    "Of course, this is a simple least squares on a single observation $(x, y)$ and we can compute the result analytically. But it is a good example to understand what pytorch has to offer.\n",
    "\n",
    "If we are too lazy to compute the analytic expression, we can run the Gradient Descent, which starts from $w_0 = (0, \\ldots, 0)^\\top$ and proceeds as\n",
    "\n",
    "$$w_k = w_{k - 1} - \\eta \\nabla L(w_{k - 1}).$$\n",
    "\n",
    "So the only thing that we need to know is the gradient of the loss function $L$ evaluated at the point $w_{k - 1}$.\n",
    "Here how it is done in pytorch."
   ]
  },
  {
   "cell_type": "code",
   "execution_count": 41,
   "metadata": {},
   "outputs": [
    {
     "name": "stdout",
     "output_type": "stream",
     "text": [
      "tensor([[1.]])\n",
      "tensor([[-2.],\n",
      "        [-2.],\n",
      "        [-2.],\n",
      "        [-2.],\n",
      "        [-2.]])\n"
     ]
    }
   ],
   "source": [
    "# Input data\n",
    "y = torch.ones(1, 1)\n",
    "x = torch.ones(1, 5)\n",
    "print(y)\n",
    "\n",
    "# Setting requires_grad=True indicates that we want to compute gradients with\n",
    "# respect to these tensors during the backward pass.\n",
    "w = torch.zeros(5, 1, requires_grad=True) # setting w_0 = (0, ..., 0)^T\n",
    "\n",
    "y_pred = x.mm(w) # inner product of w and x \n",
    "\n",
    "loss = (y - y_pred).pow(2) # squared loss\n",
    "\n",
    "\n",
    "# Use autograd to compute the backward pass. This call will compute the\n",
    "# gradient of loss with respect to all tensors with requires_grad=True.\n",
    "# After this call w.grad will be a tensor holding the gradient\n",
    "# of the loss with respect to w.\n",
    "loss.backward()\n",
    "\n",
    "print(w.grad) # Print the gradient"
   ]
  },
  {
   "cell_type": "markdown",
   "metadata": {},
   "source": [
    "**Question.** Assuming that $w_0 = (0, \\ldots, 0)^\\top$ compute on paper $\\nabla L(w_0)$. Do not include the answer to this question into the report. Just make sure you understant what is going on here.\n",
    "\n",
    "Once you made sure that ```w.grad``` indeed stores the value of $\\nabla L(w_0)$. We can implement the Gradient Descent algorithm with only few lines of code!"
   ]
  },
  {
   "cell_type": "code",
   "execution_count": 6,
   "metadata": {},
   "outputs": [
    {
     "name": "stdout",
     "output_type": "stream",
     "text": [
      "Iteration 10/150, Current loss: 0.150094673037529\n",
      "Iteration 20/150, Current loss: 0.018248017877340317\n",
      "Iteration 30/150, Current loss: 0.002218528650701046\n",
      "Iteration 40/150, Current loss: 0.00026972233899869025\n",
      "Iteration 50/150, Current loss: 3.279230440966785e-05\n",
      "Iteration 60/150, Current loss: 3.986556748714065e-06\n",
      "Iteration 70/150, Current loss: 4.846697265747935e-07\n",
      "Iteration 80/150, Current loss: 5.8908199207508005e-08\n",
      "Iteration 90/150, Current loss: 7.173785121494802e-09\n",
      "Iteration 100/150, Current loss: 8.74024408403784e-10\n",
      "Iteration 110/150, Current loss: 1.0756195933936397e-10\n",
      "Iteration 120/150, Current loss: 1.3219647598816664e-11\n",
      "Iteration 130/150, Current loss: 1.566746732351021e-12\n",
      "Iteration 140/150, Current loss: 1.7408297026122455e-13\n",
      "Iteration 150/150, Current loss: 1.2789769243681803e-13\n",
      "Final result: tensor([[0.2000],\n",
      "        [0.2000],\n",
      "        [0.2000],\n",
      "        [0.2000],\n",
      "        [0.2000]], requires_grad=True)\n"
     ]
    }
   ],
   "source": [
    "# Input data\n",
    "y = torch.ones(1, 1)\n",
    "x = torch.ones(1, 5)\n",
    "\n",
    "w = torch.zeros(5, 1, requires_grad=True) # Initialization: w_0 = (0, ..., 0)^T\n",
    "\n",
    "lr = .01 # Learning rate a.k.a. the step size\n",
    "max_iter = 150\n",
    "\n",
    "for k in range(max_iter):\n",
    "    loss = (y - x.mm(w)).pow(2) # forward pass\n",
    "    \n",
    "        \n",
    "    loss.backward() # the backward pass\n",
    "    \n",
    "    # Manually update weights using gradient descent. Wrap in torch.no_grad()\n",
    "    # because weights have requires_grad=True, but we don't need to track this\n",
    "    # in autograd.\n",
    "    with torch.no_grad():\n",
    "        w -= lr * w.grad # gradient step\n",
    "        w.grad.zero_() # after performing operation with gradient we need to erase it\n",
    "    \n",
    "    if k % 10 == 9:\n",
    "        print(f'Iteration {k + 1}/{max_iter}, Current loss: {loss.item()}')\n",
    "        \n",
    "print(f'Final result: {w}')"
   ]
  },
  {
   "cell_type": "markdown",
   "metadata": {},
   "source": [
    "**Question:** Solve the problem $\\min_{w \\in \\mathbb{R}^5}\\, (1 - x^\\top w)^2$ with $x = (1, \\ldots, 1)^\\top \\in \\mathbb{R}^5$ analytically and compare to the result of the Gradient Descent.\n",
    "\n",
    "**Question:** Recalling the theory of numerical optimization, what is the learning rate ```lr``` that we need to set sto ensure the fastest convergence?\n",
    " \n",
    "**Question:** Explain the connection of ```loss.backward()``` and the backpropagation for feedforward neural nets.\n"
   ]
  },
  {
   "cell_type": "markdown",
   "metadata": {},
   "source": [
    "Q1"
   ]
  },
  {
   "cell_type": "markdown",
   "metadata": {},
   "source": [
    "First let's solve the problem analytically. We want to minimize this problem which is close from the normal equation."
   ]
  },
  {
   "cell_type": "markdown",
   "metadata": {},
   "source": [
    "We are trying to find a five dimensional vector w=[a,b,c,d,e] which minimizes the error function wich is quadratic in our case. Therefore, we can apply the normal equation where $\\theta$ corresponds to the least square problem optimum. If we solves the normal equation, we have:\n",
    "$\\theta=(X^\\top *X)^-1* Y* Y^\\top $"
   ]
  },
  {
   "cell_type": "markdown",
   "metadata": {},
   "source": []
  },
  {
   "cell_type": "code",
   "execution_count": 25,
   "metadata": {},
   "outputs": [
    {
     "name": "stdout",
     "output_type": "stream",
     "text": [
      "[1 1 1 1 1]\n",
      "[1 1 1 1 1]\n",
      "5\n",
      "5\n"
     ]
    }
   ],
   "source": [
    "x=np.array([1,1,1,1,1])\n",
    "y=np.array([1,1,1,1,1])\n",
    "X=np.transpose(x)\n",
    "Y=np.transpose(y)\n",
    "#theta=np.dot(np.linalg.inv(np.dot(x,np.transpose(x))),np.dot(y,np.transpose(y)))\n",
    "a=np.dot(np.transpose(X),X)\n",
    "print(X)\n",
    "print(x)\n",
    "print(len(x))\n",
    "print(len(X))"
   ]
  },
  {
   "cell_type": "markdown",
   "metadata": {},
   "source": [
    "# Multi layer perceptron"
   ]
  },
  {
   "cell_type": "markdown",
   "metadata": {},
   "source": [
    "Below we will build our neural net. Recall that MNIST is composed of images of size $28 \\times 28$, hence the dimenison of the input is $784$. We have $10$ classes, so the dimension of the output is $10$.\n",
    "\n",
    "In between we will insert $2$ hidden layers and use ReLU as our non-linearity (activation function).\n",
    "The first hidden layer is composed of $128$ neurons and the second one of $64$ neurons.\n",
    "\n",
    "We will not use GPU nor we will consider complicated neural nets in this TP. The goal is to introduce you to the basics without going into too complicated architechtures."
   ]
  },
  {
   "cell_type": "code",
   "execution_count": 26,
   "metadata": {},
   "outputs": [],
   "source": [
    "class SimpleFeedForward(nn.Module):\n",
    "    def __init__(self, input_size=784, hidden_sizes=[128, 64],\n",
    "                 output_size=10):\n",
    "        super().__init__()\n",
    "        self.classifier = nn.Sequential(\n",
    "            nn.Linear(input_size, hidden_sizes[0]), \n",
    "            nn.ReLU(),\n",
    "            nn.Linear(hidden_sizes[0], hidden_sizes[1]),\n",
    "            nn.ReLU(),\n",
    "            nn.Linear(hidden_sizes[1], output_size)\n",
    "        )\n",
    "             \n",
    "    def forward(self, x):\n",
    "        x = x.reshape(-1, input_size)\n",
    "        x = self.classifier(x)\n",
    "        return x"
   ]
  },
  {
   "cell_type": "markdown",
   "metadata": {},
   "source": [
    "Once we defined our neural net we need to train it.\n",
    "The training is going to be performed via Stochastic Gradient Descent evaluated on a mini batch of the data.\n",
    "That is, on the foward stage we will use not a single data point but several ones. In this case we set the size of mini batch equal to $32$.\n",
    "\n",
    "Actually, size of the mini batch, learning rate sizes of hidden layers are all considered as hyperparameters that can be finely tuned (some people even tune random seed, which is absolutely ridiculous). We will not talk about the hypeparameter tuning in this TP, to learn more have a look at https://pytorch.org/tutorials/beginner/hyperparameter_tuning_tutorial.html .\n",
    "\n",
    "\n",
    "**Important:** We do not require you to perform complicated hyperparameter tuning. This part is beyond the course. However, it is important that you can clearly write an architechture of a nerual net that you consider.\n"
   ]
  },
  {
   "cell_type": "code",
   "execution_count": 27,
   "metadata": {},
   "outputs": [],
   "source": [
    "# Training consists of gradient steps over mini batch of data\n",
    "def train(model, trainloader, loss, optimizer, epoch, num_epochs):\n",
    "    # We enter train mode. This is useless for the linear model\n",
    "    # but is important for layers such as dropout, batchnorm, ...\n",
    "    model.train()\n",
    "    \n",
    "    loop = tqdm(trainloader)\n",
    "    loop.set_description(f'Training Epoch [{epoch + 1}/{num_epochs}]')\n",
    "    \n",
    "    # We iterate over the mini batches of our data\n",
    "    for inputs, targets in loop:\n",
    "    \n",
    "        # Erase any previously stored gradient\n",
    "        optimizer.zero_grad()\n",
    "        \n",
    "        \n",
    "        outputs = net(inputs) # Forwards stage (prediction with current weights)\n",
    "        loss = criterion(outputs, targets) # loss evaluation\n",
    "        \n",
    "        loss.backward() # Back propagation (evaluate gradients) \n",
    "        \n",
    "        \n",
    "        # Making gradient step on the batch (this function takes care of the gradient step for us)\n",
    "        optimizer.step() \n",
    "        \n",
    "def validation(model, valloader, loss):\n",
    "    # Do not compute gradient, since we do not need it for validation step\n",
    "    with torch.no_grad():\n",
    "        # We enter evaluation mode.\n",
    "        model.eval()\n",
    "        \n",
    "        total = 0 # keep track of currently used samples\n",
    "        running_loss = 0.0 # accumulated loss without averagind\n",
    "        accuracy = 0.0 # accumulated accuracy without averagind (number of correct predictions)\n",
    "        \n",
    "        loop = tqdm(valloader) # This is for the progress bar\n",
    "        loop.set_description('Validation in progress')\n",
    "        \n",
    "        \n",
    "        # We again iterate over the batches of validation data. batch_size does not play any role here\n",
    "        for inputs, targets in loop:\n",
    "            # Run samples through our net\n",
    "            outputs = model(inputs)\n",
    "\n",
    "            # Total number of used samples\n",
    "            total += inputs.shape[0]\n",
    "\n",
    "            # Multiply loss by the batch size to erase averagind on the batch\n",
    "            running_loss += inputs.shape[0] * loss(outputs, targets).item()\n",
    "            \n",
    "            # how many correct predictions\n",
    "            accuracy += (outputs.argmax(dim=1) == targets).sum().item()\n",
    "            \n",
    "            # set nice progress meassage\n",
    "            loop.set_postfix(val_loss=(running_loss / total), val_acc=(accuracy / total))\n",
    "        return running_loss / total, accuracy / total"
   ]
  },
  {
   "cell_type": "markdown",
   "metadata": {},
   "source": [
    "We use again the MNIST dataset. This time we will use the official train/test split!"
   ]
  },
  {
   "cell_type": "code",
   "execution_count": 28,
   "metadata": {},
   "outputs": [
    {
     "name": "stdout",
     "output_type": "stream",
     "text": [
      "Downloading http://yann.lecun.com/exdb/mnist/train-images-idx3-ubyte.gz\n",
      "Downloading http://yann.lecun.com/exdb/mnist/train-images-idx3-ubyte.gz to data/MNIST/raw/train-images-idx3-ubyte.gz\n"
     ]
    },
    {
     "data": {
      "application/vnd.jupyter.widget-view+json": {
       "model_id": "ea894262dea249e2a7a867c6c6a8439f",
       "version_major": 2,
       "version_minor": 0
      },
      "text/plain": [
       "  0%|          | 0/9912422 [00:00<?, ?it/s]"
      ]
     },
     "metadata": {},
     "output_type": "display_data"
    },
    {
     "name": "stdout",
     "output_type": "stream",
     "text": [
      "Extracting data/MNIST/raw/train-images-idx3-ubyte.gz to data/MNIST/raw\n",
      "\n",
      "Downloading http://yann.lecun.com/exdb/mnist/train-labels-idx1-ubyte.gz\n",
      "Downloading http://yann.lecun.com/exdb/mnist/train-labels-idx1-ubyte.gz to data/MNIST/raw/train-labels-idx1-ubyte.gz\n"
     ]
    },
    {
     "data": {
      "application/vnd.jupyter.widget-view+json": {
       "model_id": "f90338478e394d69a66b56bb34ba571b",
       "version_major": 2,
       "version_minor": 0
      },
      "text/plain": [
       "  0%|          | 0/28881 [00:00<?, ?it/s]"
      ]
     },
     "metadata": {},
     "output_type": "display_data"
    },
    {
     "name": "stdout",
     "output_type": "stream",
     "text": [
      "Extracting data/MNIST/raw/train-labels-idx1-ubyte.gz to data/MNIST/raw\n",
      "\n",
      "Downloading http://yann.lecun.com/exdb/mnist/t10k-images-idx3-ubyte.gz\n",
      "Downloading http://yann.lecun.com/exdb/mnist/t10k-images-idx3-ubyte.gz to data/MNIST/raw/t10k-images-idx3-ubyte.gz\n"
     ]
    },
    {
     "data": {
      "application/vnd.jupyter.widget-view+json": {
       "model_id": "d4f5ec80a3ef4229baba860888132b7c",
       "version_major": 2,
       "version_minor": 0
      },
      "text/plain": [
       "  0%|          | 0/1648877 [00:00<?, ?it/s]"
      ]
     },
     "metadata": {},
     "output_type": "display_data"
    },
    {
     "name": "stdout",
     "output_type": "stream",
     "text": [
      "Extracting data/MNIST/raw/t10k-images-idx3-ubyte.gz to data/MNIST/raw\n",
      "\n",
      "Downloading http://yann.lecun.com/exdb/mnist/t10k-labels-idx1-ubyte.gz\n",
      "Downloading http://yann.lecun.com/exdb/mnist/t10k-labels-idx1-ubyte.gz to data/MNIST/raw/t10k-labels-idx1-ubyte.gz\n"
     ]
    },
    {
     "data": {
      "application/vnd.jupyter.widget-view+json": {
       "model_id": "b3b491d15fbb412cab4b435073acaf0a",
       "version_major": 2,
       "version_minor": 0
      },
      "text/plain": [
       "  0%|          | 0/4542 [00:00<?, ?it/s]"
      ]
     },
     "metadata": {},
     "output_type": "display_data"
    },
    {
     "name": "stdout",
     "output_type": "stream",
     "text": [
      "Extracting data/MNIST/raw/t10k-labels-idx1-ubyte.gz to data/MNIST/raw\n",
      "\n"
     ]
    }
   ],
   "source": [
    "# We download the oficial MNIST train set\n",
    "all_train = datasets.MNIST('data/',\n",
    "                           download=True,\n",
    "                           train=True,\n",
    "                           transform=transforms.ToTensor())\n",
    "\n",
    "# We split the whole train set in two parts:\n",
    "# the one that we actually use for training\n",
    "# and the one that we use for validation\n",
    "batch_size = 32 # size of the mini batch\n",
    "num_train = int(0.8 * len(all_train))\n",
    "\n",
    "trainset, valset = torch.utils.data.random_split(all_train, [num_train, len(all_train) - num_train])\n",
    "trainloader = torch.utils.data.DataLoader(trainset, batch_size=batch_size, shuffle=True)\n",
    "valloader = torch.utils.data.DataLoader(valset, batch_size=batch_size, shuffle=True)"
   ]
  },
  {
   "cell_type": "code",
   "execution_count": 29,
   "metadata": {},
   "outputs": [
    {
     "name": "stdout",
     "output_type": "stream",
     "text": [
      "Dimensions of the inputs are torch.Size([32, 1, 28, 28])\n",
      "The number on the image is: 5\n"
     ]
    },
    {
     "data": {
      "image/png": "[encoded data removed]",
      "text/plain": [
       "<Figure size 432x288 with 1 Axes>"
      ]
     },
     "metadata": {
      "needs_background": "light"
     },
     "output_type": "display_data"
    }
   ],
   "source": [
    "# we can iterate over trainloader in the following way\n",
    "for inputs, targets in trainloader:\n",
    "    print(f'Dimensions of the inputs are {inputs.shape}')\n",
    "    plt.imshow(inputs[0][0], cmap='gray', interpolation='none')\n",
    "    print(f'The number on the image is: {targets[0]}')\n",
    "    break"
   ]
  },
  {
   "cell_type": "markdown",
   "metadata": {},
   "source": [
    "The shape of ```inputs``` is $(32, 1, 28, 28)$. The first dimension indicates the size of the mini batch and is controlled by parameter ```batch_size```, the last two parameters are the 2D dimensions of the image and are equal to $28 \\times 28$ in case of the MNIST data. The lonely $1$, staying in the second dimension essentialy reflects the fact that the images are black and white. For instance, if MNIST were colored (there are variants of colored MNIST actually), then we would need $3$ (in case of RGB) colors to represent an image, thus $1$ would be replaed by $3$. \n",
    "\n",
    "**Question:** Run the above block several times. Is it plotting the same number all the time? If not, why?"
   ]
  },
  {
   "cell_type": "code",
   "execution_count": 30,
   "metadata": {},
   "outputs": [],
   "source": [
    "# Net + training parameters\n",
    "num_epochs = 2 # how many passes over the whole train data\n",
    "input_size = 784 # flattened size of the image\n",
    "hidden_sizes = [128, 64] # sizes of hidden layers\n",
    "output_size = 10 # how many labels we have\n",
    "lr = 0.001 # learning rate\n",
    "momentum = 0.9 # momentum"
   ]
  },
  {
   "cell_type": "code",
   "execution_count": 31,
   "metadata": {},
   "outputs": [],
   "source": [
    "# initializing our model/loss/optimizer\n",
    "net = SimpleFeedForward(input_size, hidden_sizes, output_size) # Our neural net\n",
    "criterion = nn.CrossEntropyLoss() # Loss function to be optimized\n",
    "optimizer = optim.SGD(net.parameters(), lr=lr, momentum=momentum) # Optimization algorithm"
   ]
  },
  {
   "cell_type": "code",
   "execution_count": 32,
   "metadata": {},
   "outputs": [
    {
     "data": {
      "application/vnd.jupyter.widget-view+json": {
       "model_id": "312307ca77094797b85f9bcdb0728cf9",
       "version_major": 2,
       "version_minor": 0
      },
      "text/plain": [
       "  0%|          | 0/1500 [00:00<?, ?it/s]"
      ]
     },
     "metadata": {},
     "output_type": "display_data"
    },
    {
     "data": {
      "application/vnd.jupyter.widget-view+json": {
       "model_id": "7e9cb89ad0ec4fd298fad114310ee6b3",
       "version_major": 2,
       "version_minor": 0
      },
      "text/plain": [
       "  0%|          | 0/375 [00:00<?, ?it/s]"
      ]
     },
     "metadata": {},
     "output_type": "display_data"
    },
    {
     "data": {
      "application/vnd.jupyter.widget-view+json": {
       "model_id": "e221b4de1f0e4b9a85ffceee20254a5f",
       "version_major": 2,
       "version_minor": 0
      },
      "text/plain": [
       "  0%|          | 0/1500 [00:00<?, ?it/s]"
      ]
     },
     "metadata": {},
     "output_type": "display_data"
    },
    {
     "data": {
      "application/vnd.jupyter.widget-view+json": {
       "model_id": "d59008ce1494423586b03bbcce959924",
       "version_major": 2,
       "version_minor": 0
      },
      "text/plain": [
       "  0%|          | 0/375 [00:00<?, ?it/s]"
      ]
     },
     "metadata": {},
     "output_type": "display_data"
    }
   ],
   "source": [
    "# num_epochs indicates the number of passes over the data\n",
    "for epoch in range(num_epochs):\n",
    "    \n",
    "    # makes one pass over the train data and updates weights\n",
    "    train(net, trainloader, criterion, optimizer, epoch, num_epochs)\n",
    "\n",
    "    # makes one pass over validation data and provides validation statistics\n",
    "    val_loss, val_acc = validation(net, valloader, criterion)\n"
   ]
  },
  {
   "cell_type": "code",
   "execution_count": 33,
   "metadata": {},
   "outputs": [
    {
     "data": {
      "application/vnd.jupyter.widget-view+json": {
       "model_id": "d5b4dbad56884187ac143c1a66244834",
       "version_major": 2,
       "version_minor": 0
      },
      "text/plain": [
       "  0%|          | 0/313 [00:00<?, ?it/s]"
      ]
     },
     "metadata": {},
     "output_type": "display_data"
    },
    {
     "name": "stdout",
     "output_type": "stream",
     "text": [
      "Test accuracy: 0.9002 | Test loss: 0.3495431449651718\n"
     ]
    }
   ],
   "source": [
    "# Let us evaluate our net on the test set that we have never seen!\n",
    "testset = datasets.MNIST('data/',\n",
    "                         download=True,\n",
    "                         train=False,\n",
    "                         transform=transforms.ToTensor())\n",
    "testloader = torch.utils.data.DataLoader(testset, batch_size=batch_size, shuffle=True)\n",
    "\n",
    "test_loss, test_acc = validation(net, testloader, criterion)\n",
    "print(f'Test accuracy: {test_acc} | Test loss: {test_loss}')"
   ]
  },
  {
   "cell_type": "markdown",
   "metadata": {},
   "source": [
    "# Problem 1: Logistic regression via pytorch"
   ]
  },
  {
   "cell_type": "markdown",
   "metadata": {},
   "source": [
    "Using above code as an example implement multinomial logistic regression and train it on the same data.\n",
    "For your report include:\n",
    "1. Mathematical description of logistic regression\n",
    "2. Mathematical description of optimization algorithm that you use\n",
    "3. High level idea of how to implement logisitic regression with pytorch\n",
    "4. Report classification accuracy on test data."
   ]
  },
  {
   "cell_type": "markdown",
   "metadata": {},
   "source": [
    "# Elements of CNN: ```nn.Conv2d``` and ```MaxPool2d```"
   ]
  },
  {
   "cell_type": "markdown",
   "metadata": {},
   "source": [
    "Read this before starting: https://ttic.uchicago.edu/~shubhendu/Pages/Files/Lecture7_flat.pdf"
   ]
  },
  {
   "cell_type": "markdown",
   "metadata": {},
   "source": [
    "**Understanding the convolutional layer in pytorch**"
   ]
  },
  {
   "cell_type": "markdown",
   "metadata": {},
   "source": [
    "Once we instanciate ```nn.Conv2d(1, 1, kernel_size=2, stride=[1, 1], padding=0)``` it has a parameter ```weight``` which precisely describes the kernel used for our convolution. In the beginning it is initialized randomly, and our goal is to eventually learn its weights (as usual via backpropagation!).\n",
    "Before building our first CNN let us have a look at the kernel and what it does."
   ]
  },
  {
   "cell_type": "code",
   "execution_count": 34,
   "metadata": {},
   "outputs": [],
   "source": [
    "# 1 input channel (first 1 in nn.Conv2d)\n",
    "# 1 output channel (second 1 in nn.Conv2d)\n",
    "# 2x2 kernel (kernel_size=2)\n",
    "# the kernel slides by one step in (x, y) direction (stride=[1, 1])\n",
    "# we do not augment the picture with white borders (padding=0)\n",
    "conv = nn.Conv2d(1, 1, kernel_size=2, stride=[1, 1], padding=0) \n",
    "# Get kernel value.\n",
    "weight = conv.weight.data.numpy()"
   ]
  },
  {
   "cell_type": "markdown",
   "metadata": {},
   "source": [
    "**Visualization.** We will plot the initial image, the kernel, and the resulting image. In order to understand what is going on, the resulting image will be computed in two ways. First of all it will be computed by using ```conv1(image)```. Secondly, we will manually apply the sliding kernel to each $2\\times 2$ window."
   ]
  },
  {
   "cell_type": "code",
   "execution_count": 35,
   "metadata": {},
   "outputs": [
    {
     "data": {
      "text/plain": [
       "Text(0.5, 1.0, 'By hand')"
      ]
     },
     "execution_count": 35,
     "metadata": {},
     "output_type": "execute_result"
    },
    {
     "data": {
      "image/png": "[encoded data removed]",
      "text/plain": [
       "<Figure size 432x288 with 4 Axes>"
      ]
     },
     "metadata": {
      "needs_background": "light"
     },
     "output_type": "display_data"
    }
   ],
   "source": [
    "# take one image\n",
    "image, _ = next(iter(trainloader))\n",
    "\n",
    "\n",
    "fig, axs = plt.subplots(1, 4)\n",
    "fig.tight_layout()\n",
    "fig.suptitle('Convolution')\n",
    "\n",
    "# plot the image\n",
    "axs[0].imshow(image[0][0], cmap='gray', interpolation='none')\n",
    "axs[0].set_title('Original image')\n",
    "\n",
    "# plot the kernel\n",
    "axs[1].imshow(weight[0][0], cmap='gray', interpolation='none')\n",
    "axs[1].set_title('2x2 kernel')\n",
    "\n",
    "# plot resulting image\n",
    "axs[2].imshow(conv(image)[0][0].detach().numpy(), cmap='gray', interpolation='none')\n",
    "axs[2].set_title('Resulting image')\n",
    "\n",
    "# Making the same by hands\n",
    "# IMPORTANT: we strongly suggest to understand the below code\n",
    "np_image = image[0][0].data.numpy() # get numpy image\n",
    "image_convolved = np.zeros((27, 27)) # here we store our result\n",
    "for i in range(27):\n",
    "    for j in range(27):\n",
    "        image_convolved[i, j] = np.sum(np_image[i:i+2, j:j+2] * weight) # apply the kernel for each 2x2 window\n",
    "        \n",
    "axs[3].imshow(image_convolved, cmap='gray', interpolation='none')\n",
    "axs[3].set_title('By hand')"
   ]
  },
  {
   "cell_type": "markdown",
   "metadata": {},
   "source": [
    "**Problem.** Provide 'by hand' implementation of the following kernel "
   ]
  },
  {
   "cell_type": "code",
   "execution_count": 36,
   "metadata": {},
   "outputs": [
    {
     "data": {
      "image/png": "[encoded data removed]",
      "text/plain": [
       "<Figure size 432x288 with 4 Axes>"
      ]
     },
     "metadata": {
      "needs_background": "light"
     },
     "output_type": "display_data"
    }
   ],
   "source": [
    "# 1 input channel (first 1 in nn.Conv2d)\n",
    "# 1 output channel (second 1 in nn.Conv2d)\n",
    "# 4x4 kernel (kernel_size=4)\n",
    "# the kernel slides by 3 step in (x, y) direction (stride=[4, 4])\n",
    "# we do not augment the picture with white borders (padding=0)\n",
    "conv = nn.Conv2d(1, 1, kernel_size=4, stride=[4, 4], padding=0) \n",
    "# Get kernel value.\n",
    "weight = conv.weight.data.numpy()\n",
    "\n",
    "# take one image\n",
    "image, _ = next(iter(trainloader))\n",
    "\n",
    "\n",
    "fig, axs = plt.subplots(1, 4)\n",
    "fig.tight_layout()\n",
    "fig.suptitle('Convolution')\n",
    "\n",
    "# plot the image\n",
    "axs[0].imshow(image[0][0], cmap='gray', interpolation='none')\n",
    "axs[0].set_title('Original image')\n",
    "\n",
    "# plot the kernel\n",
    "axs[1].imshow(weight[0][0], cmap='gray', interpolation='none')\n",
    "axs[1].set_title('4x4 kernel')\n",
    "\n",
    "# plot resulting image\n",
    "axs[2].imshow(conv(image)[0][0].detach().numpy(), cmap='gray', interpolation='none')\n",
    "axs[2].set_title('Resulting image')\n",
    "\n",
    "# Making the same by hands\n",
    "# PROBLEM: FILL IN THIS PART. \n",
    "np_image = image[0][0].data.numpy() # get numpy image"
   ]
  },
  {
   "cell_type": "markdown",
   "metadata": {},
   "source": [
    "**Understanding the pooling layer in pytorch**"
   ]
  },
  {
   "cell_type": "markdown",
   "metadata": {},
   "source": [
    "Max pooling is what often used in practice, it amounts to picking only the largest value of a pixel in a given window. In pytorch it is done via ```MaxPool2d(kernel_size=k, stride=s)```, which has two parameters: kernel size and the stride. Note that there are no weights to learn here, so this layer is simply fixed."
   ]
  },
  {
   "cell_type": "code",
   "execution_count": 37,
   "metadata": {},
   "outputs": [
    {
     "data": {
      "text/plain": [
       "Text(0.5, 1.0, 'By hand')"
      ]
     },
     "execution_count": 37,
     "metadata": {},
     "output_type": "execute_result"
    },
    {
     "data": {
      "image/png": "[encoded data removed]",
      "text/plain": [
       "<Figure size 432x288 with 3 Axes>"
      ]
     },
     "metadata": {
      "needs_background": "light"
     },
     "output_type": "display_data"
    }
   ],
   "source": [
    "# kernel_size -- size of the max pool window\n",
    "pool = nn.MaxPool2d(kernel_size=4, stride=[4,4])\n",
    "\n",
    "fig, axs = plt.subplots(1, 3)\n",
    "fig.tight_layout()\n",
    "fig.suptitle('Pooling')\n",
    "\n",
    "# plot the image\n",
    "axs[0].imshow(image[0][0], cmap='gray', interpolation='none')\n",
    "axs[0].set_title('Original image')\n",
    "\n",
    "\n",
    "# plot resulting image\n",
    "axs[1].imshow(pool(image)[0][0].detach().numpy(), cmap='gray', interpolation='none')\n",
    "axs[1].set_title('Resulting image')\n",
    "\n",
    "# Making the same by hands\n",
    "# IMPORTANT: we strongly suggest to understand the below code\n",
    "np_image = image[0][0].data.numpy() # get numpy image\n",
    "image_pooled = np.zeros((7, 7)) # here we store our result\n",
    "for i in range(0, 27, 4):\n",
    "    for j in range(0, 27, 4):\n",
    "        image_pooled[int(i / 4), int(j / 4)] = np.max(np_image[i:i+4, j:j+4]) # max pooling\n",
    "        \n",
    "axs[2].imshow(image_pooled, cmap='gray', interpolation='none')\n",
    "axs[2].set_title('By hand')"
   ]
  },
  {
   "cell_type": "markdown",
   "metadata": {},
   "source": [
    "# Bulding a simple ConvNet"
   ]
  },
  {
   "cell_type": "code",
   "execution_count": 38,
   "metadata": {},
   "outputs": [],
   "source": [
    "class ConvNet(nn.Module):\n",
    "    def __init__(self):\n",
    "        super().__init__()\n",
    "        self.layer1 = nn.Sequential(\n",
    "            nn.Conv2d(1, 8, kernel_size=5, stride=[1, 1], padding=2),\n",
    "            nn.ReLU(),\n",
    "            nn.MaxPool2d(kernel_size=2, stride=2))\n",
    "        self.classifier = nn.Sequential(\n",
    "            nn.Linear(14 * 14 * 8, 500),\n",
    "            nn.ReLU(),\n",
    "            nn.Linear(500, 10),\n",
    "        )\n",
    "        \n",
    "    def forward(self, x):\n",
    "        out = self.layer1(x)\n",
    "        out = out.reshape(out.size(0), -1)\n",
    "        out = self.classifier(out)\n",
    "        return out"
   ]
  },
  {
   "cell_type": "markdown",
   "metadata": {},
   "source": [
    "Note that the first layer is ```nn.Conv2d(1, 32, kernel_size=5, stride=1, padding=2)```, the parameters here are chosen in such a way that the size of each output channel remains as $28 \\times 28$. Indeed, setting ```padding = 2``` we augmented our initial image to $32 \\times 32$, then we slide a kernel of size $5 \\times 5$ by $1$ in both $(x, y)$ directions which result in a $28 \\times 28$ output image (and $8$ channels).\n",
    "\n",
    "In general the formula for square images and squared kernels is\n",
    "$$\n",
    "    S_{out} = \\frac{S_{in} - S_{kernel} + 2S_{padding}}{S_{stride}} + 1\n",
    "$$\n",
    "\n",
    "In our case it is\n",
    "\n",
    "$$\n",
    "    S_{out} = \\frac{28 - 5 + 4}{1} + 1 = 28\n",
    "$$\n",
    "\n",
    "Then the output of ```nn.Conv2d(1, 8, kernel_size=5, stride=1, padding=2)``` goes into ```nn.ReLU()``` our favorite non-linearity and eventually into the pooling layer ```nn.MaxPool2d(kernel_size=2, stride=2)```.\n",
    "The ```nn.ReLU()``` doe not affect the size, hence ```nn.MaxPool2d(kernel_size=2, stride=2)``` receives $8$ channels of $28 \\times 28$ images as computed above.\n",
    "\n",
    "```nn.MaxPool2d(kernel_size=2, stride=2)``` will be applied to each single channel, with ```kernel_size=2, stride=2``` meaning that the output will still have $8$ channels but the images will be halfed in both $(x, y)$ directions. Hence the output of ```nn.MaxPool2d(kernel_size=2, stride=2)``` has $8$ channels with $14 \\times 14$ images.\n",
    "\n",
    "After all this, we will flatten our features and put the into simple ```nn.Linear(14 * 14 * 8, 500)```, where the input size is precisely the output size of ```nn.MaxPool2d(kernel_size=2, stride=2)```, and $500$ stands for the output size of this linear layer.\n",
    "Finally, we apply our favorite nonlinearity to ```nn.Linear(14 * 14 * 8, 500)``` followed by fully connected linear layer ```nn.Linear(500, 10)``` to match the dimension of $10$ classes."
   ]
  },
  {
   "cell_type": "code",
   "execution_count": 39,
   "metadata": {},
   "outputs": [
    {
     "data": {
      "application/vnd.jupyter.widget-view+json": {
       "model_id": "8b483c696beb4a669dd06ee812b772e3",
       "version_major": 2,
       "version_minor": 0
      },
      "text/plain": [
       "  0%|          | 0/1500 [00:00<?, ?it/s]"
      ]
     },
     "metadata": {},
     "output_type": "display_data"
    },
    {
     "data": {
      "application/vnd.jupyter.widget-view+json": {
       "model_id": "76399d6a17234135bbb416898798951f",
       "version_major": 2,
       "version_minor": 0
      },
      "text/plain": [
       "  0%|          | 0/375 [00:00<?, ?it/s]"
      ]
     },
     "metadata": {},
     "output_type": "display_data"
    },
    {
     "data": {
      "application/vnd.jupyter.widget-view+json": {
       "model_id": "bac5d3d707c5439f989f5043a21ba32f",
       "version_major": 2,
       "version_minor": 0
      },
      "text/plain": [
       "  0%|          | 0/1500 [00:00<?, ?it/s]"
      ]
     },
     "metadata": {},
     "output_type": "display_data"
    },
    {
     "data": {
      "application/vnd.jupyter.widget-view+json": {
       "model_id": "a6e0757e8dd84d688e1f698db7ff2de3",
       "version_major": 2,
       "version_minor": 0
      },
      "text/plain": [
       "  0%|          | 0/375 [00:00<?, ?it/s]"
      ]
     },
     "metadata": {},
     "output_type": "display_data"
    }
   ],
   "source": [
    "net = ConvNet()\n",
    "\n",
    "# Loss and optimizer\n",
    "criterion = nn.CrossEntropyLoss()\n",
    "optimizer = torch.optim.Adam(net.parameters(), lr=lr)\n",
    "\n",
    "for epoch in range(num_epochs):\n",
    "    \n",
    "    # makes one pass over the train data and updates weights\n",
    "    train(net, trainloader, criterion, optimizer, epoch, num_epochs)\n",
    "\n",
    "    # makes one pass over validation data and provides validation statistics\n",
    "    val_loss, val_acc = validation(net, valloader, criterion)"
   ]
  },
  {
   "cell_type": "code",
   "execution_count": 40,
   "metadata": {},
   "outputs": [
    {
     "data": {
      "application/vnd.jupyter.widget-view+json": {
       "model_id": "35697cde223b4fa5962bcc72319e996f",
       "version_major": 2,
       "version_minor": 0
      },
      "text/plain": [
       "  0%|          | 0/313 [00:00<?, ?it/s]"
      ]
     },
     "metadata": {},
     "output_type": "display_data"
    },
    {
     "name": "stdout",
     "output_type": "stream",
     "text": [
      "Test accuracy: 0.9808 | Test loss: 0.056694460990279916\n"
     ]
    }
   ],
   "source": [
    "test_loss, test_acc = validation(net, testloader, criterion)\n",
    "print(f'Test accuracy: {test_acc} | Test loss: {test_loss}')"
   ]
  },
  {
   "cell_type": "markdown",
   "metadata": {},
   "source": [
    "As you see the result here is much better, than in the simple multilayer perceptron. But note, we have actualy trained muuuuuch more parameters here and, at least on my computer, it takes considerably more time.\n",
    "\n",
    "Here you can see the summary of current state of the art results on MNIST: https://www.kaggle.com/c/digit-recognizer/discussion/61480\n",
    "\n",
    "As you see our score barely beats a carefully built random forest or **kNN**! To get extra $0.01$ requires much more fine tuning, which is of course is not the goal here."
   ]
  },
  {
   "cell_type": "markdown",
   "metadata": {},
   "source": [
    "# Problem 2: Dropout"
   ]
  },
  {
   "cell_type": "markdown",
   "metadata": {},
   "source": [
    "Modify the code for ConvNet and insert Dropout layer (whereever you want).\n",
    "\n",
    "Include in your report:\n",
    "1. High level description of the dropout\n",
    "2. High level description of your architecture"
   ]
  },
  {
   "cell_type": "markdown",
   "metadata": {},
   "source": [
    "# Conclusion"
   ]
  },
  {
   "cell_type": "markdown",
   "metadata": {},
   "source": [
    "After the succesful completion of this TP, we expect you to be able to understand the architectures of NN, CNN.\n",
    "For instance, have a look at the famous AlexNet https://github.com/pytorch/vision/blob/master/torchvision/models/alexnet.py and see if you can understand its architechture."
   ]
  },
  {
   "cell_type": "code",
   "execution_count": 11,
   "metadata": {},
   "outputs": [],
   "source": [
    "from typing import Any\n",
    "\n",
    "import torch\n",
    "import torch.nn as nn\n",
    "\n",
    "#from .._internally_replaced_utils import load_state_dict_from_url\n",
    "#from ..utils import _log_api_usage_once\n",
    "\n",
    "\n",
    "__all__ = [\"AlexNet\", \"alexnet\"]\n",
    "\n",
    "\n",
    "model_urls = {\n",
    "    \"alexnet\": \"https://download.pytorch.org/models/alexnet-owt-7be5be79.pth\",\n",
    "}\n",
    "\n",
    "\n",
    "class AlexNet(nn.Module):\n",
    "    def __init__(self, num_classes: int = 1000, dropout: float = 0.5) -> None:\n",
    "        super().__init__()\n",
    "        _log_api_usage_once(self)\n",
    "        self.features = nn.Sequential(\n",
    "            nn.Conv2d(3, 64, kernel_size=11, stride=4, padding=2),\n",
    "            nn.ReLU(inplace=True),\n",
    "            nn.MaxPool2d(kernel_size=3, stride=2),\n",
    "            nn.Conv2d(64, 192, kernel_size=5, padding=2),\n",
    "            nn.ReLU(inplace=True),\n",
    "            nn.MaxPool2d(kernel_size=3, stride=2),\n",
    "            nn.Conv2d(192, 384, kernel_size=3, padding=1),\n",
    "            nn.ReLU(inplace=True),\n",
    "            nn.Conv2d(384, 256, kernel_size=3, padding=1),\n",
    "            nn.ReLU(inplace=True),\n",
    "            nn.Conv2d(256, 256, kernel_size=3, padding=1),\n",
    "            nn.ReLU(inplace=True),\n",
    "            nn.MaxPool2d(kernel_size=3, stride=2),\n",
    "        )\n",
    "        self.avgpool = nn.AdaptiveAvgPool2d((6, 6))\n",
    "        self.classifier = nn.Sequential(\n",
    "            nn.Dropout(p=dropout),\n",
    "            nn.Linear(256 * 6 * 6, 4096),\n",
    "            nn.ReLU(inplace=True),\n",
    "            nn.Dropout(p=dropout),\n",
    "            nn.Linear(4096, 4096),\n",
    "            nn.ReLU(inplace=True),\n",
    "            nn.Linear(4096, num_classes),\n",
    "        )\n",
    "\n",
    "    def forward(self, x: torch.Tensor) -> torch.Tensor:\n",
    "        x = self.features(x)\n",
    "        x = self.avgpool(x)\n",
    "        x = torch.flatten(x, 1)\n",
    "        x = self.classifier(x)\n",
    "        return x\n",
    "\n",
    "\n",
    "def alexnet(pretrained: bool = False, progress: bool = True, **kwargs: Any) -> AlexNet:\n",
    "    r\"\"\"AlexNet model architecture from the\n",
    "    `\"One weird trick...\" <https://arxiv.org/abs/1404.5997>`_ paper.\n",
    "    The required minimum input size of the model is 63x63.\n",
    "    Args:\n",
    "        pretrained (bool): If True, returns a model pre-trained on ImageNet\n",
    "        progress (bool): If True, displays a progress bar of the download to stderr\n",
    "    \"\"\"\n",
    "    model = AlexNet(**kwargs)\n",
    "    if pretrained:\n",
    "        state_dict = load_state_dict_from_url(model_urls[\"alexnet\"], progress=progress)\n",
    "        model.load_state_dict(state_dict)\n",
    "    return model"
   ]
  },
  {
   "cell_type": "code",
   "execution_count": null,
   "metadata": {},
   "outputs": [],
   "source": []
  },
  {
   "cell_type": "code",
   "execution_count": null,
   "metadata": {},
   "outputs": [],
   "source": []
  },
  {
   "cell_type": "code",
   "execution_count": null,
   "metadata": {},
   "outputs": [],
   "source": []
  }
 ],
 "metadata": {
  "kernelspec": {
   "display_name": "Python 3",
   "language": "python",
   "name": "python3"
  },
  "language_info": {
   "codemirror_mode": {
    "name": "ipython",
    "version": 3
   },
   "file_extension": ".py",
   "mimetype": "text/x-python",
   "name": "python",
   "nbconvert_exporter": "python",
   "pygments_lexer": "ipython3",
   "version": "3.8.8"
  }
 },
 "nbformat": 4,
 "nbformat_minor": 2
}
